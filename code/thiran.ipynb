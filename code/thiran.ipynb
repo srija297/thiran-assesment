{
 "cells": [
  {
   "cell_type": "code",
   "execution_count": 8,
   "id": "d3f43e77-c599-43bc-848a-d321cf0c2578",
   "metadata": {},
   "outputs": [
    {
     "name": "stdout",
     "output_type": "stream",
     "text": [
      "Example 1 Output: 1\n"
     ]
    }
   ],
   "source": [
    "def numIslands(grid):\n",
    "    if not grid:\n",
    "        return 0\n",
    "\n",
    "    rows, cols = len(grid), len(grid[0])\n",
    "    islands = 0\n",
    "\n",
    "   \n",
    "    def dfs(r, c):\n",
    "        \n",
    "        if r < 0 or r >= rows or c < 0 or c >= cols or grid[r][c] == \"0\":\n",
    "            return\n",
    "        \n",
    "        grid[r][c] = \"0\"\n",
    "        \n",
    "        dfs(r - 1, c) \n",
    "        dfs(r + 1, c)  \n",
    "        dfs(r, c - 1)  \n",
    "        dfs(r, c + 1)  \n",
    "\n",
    "    \n",
    "    for r in range(rows):\n",
    "        for c in range(cols):\n",
    "            if grid[r][c] == \"1\":\n",
    "                islands += 1\n",
    "                dfs(r, c)\n",
    "\n",
    "    return islands\n",
    "grid1 = [\n",
    "  [\"1\",\"1\",\"1\",\"1\",\"0\"],\n",
    "  [\"1\",\"1\",\"0\",\"1\",\"0\"],\n",
    "  [\"1\",\"1\",\"0\",\"0\",\"0\"],\n",
    "  [\"0\",\"0\",\"0\",\"0\",\"0\"]\n",
    "]\n",
    "print(\"Example 1 Output:\", numIslands(grid1)) "
   ]
  },
  {
   "cell_type": "code",
   "execution_count": 9,
   "id": "848dbc95-5e4d-4301-a66e-3ac8a6aea39d",
   "metadata": {},
   "outputs": [
    {
     "name": "stdout",
     "output_type": "stream",
     "text": [
      "Junction Stations: {'E', 'D', 'C'}\n",
      "Shortest Path from A to E: A -> B -> C -> D -> E\n",
      "Number of Junctions Passed: 3\n"
     ]
    }
   ],
   "source": [
    "from collections import deque\n",
    "\n",
    "def find_path(start, end, graph, junctions):\n",
    "    \n",
    "    station_queue = deque([start])\n",
    "    path_queue = deque([[start]])\n",
    "\n",
    "    visited = set([start])\n",
    "\n",
    "    \n",
    "    while station_queue:\n",
    "        current = station_queue.popleft()\n",
    "        current_path = path_queue.popleft()\n",
    "\n",
    "        \n",
    "        if current == end:\n",
    "            \n",
    "            junction_count = sum(1 for s in current_path if s in junctions)\n",
    "\n",
    "            return {\n",
    "                \"path\": \" -> \".join(current_path),\n",
    "                \"junction_count\": junction_count\n",
    "            }\n",
    "\n",
    "       \n",
    "        for next_station in graph.get(current, []):\n",
    "            if next_station not in visited:\n",
    "                visited.add(next_station)\n",
    "                new_path = current_path + [next_station]\n",
    "                station_queue.append(next_station)\n",
    "                path_queue.append(new_path)\n",
    "\n",
    "    \n",
    "    return {\n",
    "        \"path\": \"No route found\",\n",
    "        \"junction_count\": -1\n",
    "    }\n",
    "\n",
    "\n",
    "\n",
    "if __name__ == \"__main__\":\n",
    "    \n",
    "    graph = {\n",
    "        \"A\": [\"B\"],\n",
    "        \"B\": [\"A\", \"C\"],\n",
    "        \"C\": [\"B\", \"D\", \"I\", \"J\"],\n",
    "        \"D\": [\"C\", \"E\", \"L\"],\n",
    "        \"E\": [\"D\", \"F\", \"M\"],\n",
    "        \"F\": [\"E\", \"G\"],\n",
    "        \"G\": [\"F\", \"H\", \"M\", \"N\"],\n",
    "        \"H\": [\"G\"],\n",
    "        \"I\": [\"C\"],\n",
    "        \"J\": [\"C\", \"K\"],\n",
    "        \"K\": [\"J\", \"L\"],\n",
    "        \"L\": [\"D\", \"K\"],\n",
    "        \"M\": [\"E\", \"G\"],\n",
    "        \"N\": [\"G\"]\n",
    "    }\n",
    "\n",
    "    \n",
    "    junctions = {\"C\", \"D\", \"E\"}\n",
    "\n",
    "    \n",
    "    start = \"A\"\n",
    "    end = \"E\"\n",
    "\n",
    "    \n",
    "    print(\"Junction Stations:\", junctions)\n",
    "\n",
    "    \n",
    "    result = find_path(start, end, graph, junctions)\n",
    "\n",
    "    print(f\"Shortest Path from {start} to {end}: {result['path']}\")\n",
    "    print(f\"Number of Junctions Passed: {result['junction_count']}\")\n"
   ]
  },
  {
   "cell_type": "code",
   "execution_count": null,
   "id": "966127bc-94e0-480b-9626-b3cae80e91fd",
   "metadata": {},
   "outputs": [],
   "source": [
    "\n"
   ]
  }
 ],
 "metadata": {
  "kernelspec": {
   "display_name": "Python 3 (ipykernel)",
   "language": "python",
   "name": "python3"
  },
  "language_info": {
   "codemirror_mode": {
    "name": "ipython",
    "version": 3
   },
   "file_extension": ".py",
   "mimetype": "text/x-python",
   "name": "python",
   "nbconvert_exporter": "python",
   "pygments_lexer": "ipython3",
   "version": "3.13.5"
  }
 },
 "nbformat": 4,
 "nbformat_minor": 5
}
